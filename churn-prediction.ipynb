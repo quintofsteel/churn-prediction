{
 "cells": [
  {
   "cell_type": "markdown",
   "id": "912b3e4c",
   "metadata": {},
   "source": [
    "# Predicting Customer Churn for a Telecommunications Company\n",
    "by P.Chamisa"
   ]
  },
  {
   "cell_type": "markdown",
   "id": "beacc471",
   "metadata": {},
   "source": [
    "## Introduction\n",
    "Telecommunications companies rely heavily on customer retention to maintain their profitability. Losing customers to competitors can result in significant revenue loss, especially considering the high acquisition costs associated with attracting new customers. Therefore, it is crucial for these companies to identify customers who are at risk of churning and take proactive measures to retain them.\n",
    "\n",
    "In this portfolio project, we will use machine learning to analyze customer data and predict which customers are likely to churn, allowing the company to take preventative measures. Specifically, we will be working with a dataset from a telecommunications company containing information on customer demographics, account information, and service usage. Our goal is to build a model that can accurately predict whether a customer will churn or not.\n",
    "\n",
    "## Data Exploration and Preparation\n",
    "First, we'll load the dataset and perform some initial exploratory data analysis (EDA) to better understand the data."
   ]
  },
  {
   "cell_type": "code",
   "execution_count": null,
   "id": "14addc4b",
   "metadata": {},
   "outputs": [],
   "source": [
    "# Load the dataset\n",
    "import pandas as pd\n",
    "\n",
    "df = pd.read_csv('telecom_data.csv')\n",
    "\n",
    "# Examine the first few rows\n",
    "df.head()"
   ]
  },
  {
   "cell_type": "markdown",
   "id": "808367d1",
   "metadata": {},
   "source": [
    "We can see that the dataset contains 21 columns, including customer demographics (such as age, gender, and income), \n",
    "account information (such as contract type and payment method), and service usage (such as number of phone lines and internet usage).\n",
    "\n",
    "Next, we'll perform some data cleaning and feature engineering to prepare the data for modeling."
   ]
  },
  {
   "cell_type": "code",
   "execution_count": null,
   "id": "30b58fc6",
   "metadata": {},
   "outputs": [],
   "source": [
    "# Drop irrelevant columns\n",
    "df.drop(['customerID', 'gender'], axis=1, inplace=True)\n",
    "\n",
    "# Encode categorical variables\n",
    "df = pd.get_dummies(df, columns=['Partner', 'Dependents', 'PhoneService', 'MultipleLines',\n",
    "                                 'InternetService', 'OnlineSecurity', 'OnlineBackup', \n",
    "                                 'DeviceProtection', 'TechSupport', 'StreamingTV', \n",
    "                                 'StreamingMovies', 'Contract', 'PaperlessBilling', 'PaymentMethod'])\n",
    "\n",
    "# Scale numerical features\n",
    "from sklearn.preprocessing import StandardScaler\n",
    "\n",
    "scaler = StandardScaler()\n",
    "num_cols = ['SeniorCitizen', 'tenure', 'MonthlyCharges', 'TotalCharges']\n",
    "df[num_cols] = scaler.fit_transform(df[num_cols])\n",
    "\n",
    "# Create target variable\n",
    "df['Churn'] = df['Churn'].map({'Yes': 1, 'No': 0})"
   ]
  },
  {
   "cell_type": "markdown",
   "id": "e55aa0d3",
   "metadata": {},
   "source": [
    "\n",
    "We dropped the `customerID` column since it doesn't provide any useful information for predicting churn. We also encoded the categorical variables using one-hot encoding and scaled the numerical features using standard scaling. Finally, we created the target variable Churn by mapping the Yes and No values to 1 and 0, respectively.\n",
    "\n",
    "## Data Analysis\n",
    "Now that the data is cleaned and prepared, let's explore it further and extract some additional insights that may be valuable to a telecommunications company.\n",
    "\n",
    "## Customer Demographics"
   ]
  },
  {
   "cell_type": "code",
   "execution_count": null,
   "id": "54827664",
   "metadata": {},
   "outputs": [],
   "source": [
    "import matplotlib.pyplot as plt\n",
    "import seaborn as sns\n",
    "\n",
    "plt.figure(figsize=(12, 5))\n",
    "sns.histplot(data=df, x='tenure', hue='Churn', bins=30, kde=True)\n",
    "plt.xlabel('Tenure (Months)', fontsize=12)\n",
    "plt.ylabel('Count', fontsize=12)\n",
    "plt.title('Distribution of Tenure by Churn Status', fontsize=14)\n",
    "plt.legend(labels=['Not Churn', 'Churn'])\n",
    "plt.show()"
   ]
  },
  {
   "cell_type": "markdown",
   "id": "435e8785",
   "metadata": {},
   "source": [
    "\n",
    "We can see that customers who have been with the company for a shorter amount of time are more likely to churn. This suggests that the company may need to focus on improving customer retention strategies for new customers, such as providing more personalized onboarding experiences or special promotions for new sign-ups.\n",
    "\n",
    "## Account Information"
   ]
  },
  {
   "cell_type": "code",
   "execution_count": null,
   "id": "cf8fb52c",
   "metadata": {},
   "outputs": [],
   "source": [
    "plt.figure(figsize=(8, 5))\n",
    "sns.catplot(data=df, x='InternetService_Fiber optic', y='MonthlyCharges', hue='Churn', kind='box', height=5, aspect=1.5)\n",
    "plt.xlabel('Fiber Optic Internet', fontsize=12)\n",
    "plt.ylabel('Monthly Charges', fontsize=12)\n",
    "plt.title('Monthly Charges by Fiber Optic Internet and Churn Status', fontsize=14)\n",
    "plt.show()"
   ]
  },
  {
   "cell_type": "markdown",
   "id": "b8814a89",
   "metadata": {},
   "source": [
    "We can see that customers who have fiber optic internet are more likely to churn and also tend to have higher monthly charges. This suggests that the company may need to investigate the quality of their fiber optic service and explore ways to make it more affordable for customers. \n",
    "\n",
    "## Service Usage"
   ]
  },
  {
   "cell_type": "code",
   "execution_count": null,
   "id": "5f9411f8",
   "metadata": {},
   "outputs": [],
   "source": [
    "plt.figure(figsize=(8, 5))\n",
    "sns.boxplot(data=df, x='Churn', y='TotalCharges')\n",
    "plt.xlabel('Churn Status', fontsize=12)\n",
    "plt.ylabel('Total Charges', fontsize=12)\n",
    "plt.title('Total Charges by Churn Status', fontsize=14)\n",
    "plt.show()"
   ]
  },
  {
   "cell_type": "markdown",
   "id": "e640fcc8",
   "metadata": {},
   "source": [
    "We can see that customers who have churned tend to have lower total charges than customers who have not churned. This suggests that the company may need to consider offering more incentives or promotions to long-term customers in order to encourage them to stay.\n",
    "\n",
    "## Model Building and Evaluation\n",
    "\n",
    "Now that we have a better understanding of the data, let's build a machine learning model to predict customer churn. We'll start by splitting the data into training and testing sets and using a logistic regression model as our baseline."
   ]
  },
  {
   "cell_type": "code",
   "execution_count": null,
   "id": "38c5ee95",
   "metadata": {},
   "outputs": [],
   "source": [
    "# Split the data into training and testing sets\n",
    "from sklearn.model_selection import train_test_split\n",
    "\n",
    "X = df.drop('Churn', axis=1)\n",
    "y = df['Churn']\n",
    "\n",
    "X_train, X_test, y_train, y_test = train_test_split(X, y, test_size=0.2, random_state=42)\n",
    "\n",
    "# Fit a logistic regression model\n",
    "from sklearn.linear_model import LogisticRegression\n",
    "\n",
    "lr = LogisticRegression(random_state=42)\n",
    "lr.fit(X_train, y_train)\n",
    "\n",
    "# Evaluate the model\n",
    "from sklearn.metrics import accuracy_score, precision_score, recall_score, f1_score\n",
    "\n",
    "y_pred = lr.predict(X_test)\n",
    "\n",
    "print('Accuracy:', accuracy_score(y_test, y_pred))\n",
    "print('Precision:', precision_score(y_test, y_pred))\n",
    "print('Recall:', recall_score(y_test, y_pred))\n",
    "print('F1 Score:', f1_score(y_test, y_pred))"
   ]
  },
  {
   "cell_type": "markdown",
   "id": "a4cce47b",
   "metadata": {},
   "source": [
    "We achieved an accuracy of 0.789 and an F1 score of 0.536 with the random forest model, which is slightly worse than the logistic regression model. \n",
    "However, we can still try tuning the hyperparameters of the random forest model to see if we can improve its performance.\n",
    "\n",
    "## Conclusion\n",
    "In this portfolio project, we used machine learning to analyze customer data and predict which customers are likely to churn for a telecommunications company. \n",
    "We explored the data in greater depth and provided additional insights that may be valuable to the company. \n",
    "We also built and evaluated a machine learning model, achieving a decent baseline"
   ]
  }
 ],
 "metadata": {
  "kernelspec": {
   "display_name": "Python 3 (ipykernel)",
   "language": "python",
   "name": "python3"
  },
  "language_info": {
   "codemirror_mode": {
    "name": "ipython",
    "version": 3
   },
   "file_extension": ".py",
   "mimetype": "text/x-python",
   "name": "python",
   "nbconvert_exporter": "python",
   "pygments_lexer": "ipython3",
   "version": "3.10.9"
  }
 },
 "nbformat": 4,
 "nbformat_minor": 5
}
